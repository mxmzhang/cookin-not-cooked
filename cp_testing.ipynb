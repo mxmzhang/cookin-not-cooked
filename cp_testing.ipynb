{
 "cells": [
  {
   "cell_type": "code",
   "execution_count": 1,
   "id": "3e9027b0",
   "metadata": {},
   "outputs": [],
   "source": [
    "import time\n",
    "from cp import cp, main"
   ]
  },
  {
   "cell_type": "markdown",
   "id": "a0f973ad",
   "metadata": {},
   "source": [
    "TEST 1: Simple Test\n",
    "\n",
    "This test only has 2 ingredients which the user already owns, and 1 recipe using the ingredients, so the solver will just pick the 1 recipe."
   ]
  },
  {
   "cell_type": "code",
   "execution_count": 2,
   "id": "98164154",
   "metadata": {},
   "outputs": [
    {
     "name": "stdout",
     "output_type": "stream",
     "text": [
      "Solution status: OPTIMAL\n",
      "Chosen recipe IDs: [0]\n",
      "  -> Chicken and Rice\n",
      "Extra purchased amounts:\n",
      "Total cost used: 0.0 (Budget = 10)\n",
      "Total Protein: 40\n",
      "Total Calories: 400\n",
      "Total Cholestrol: 80\n",
      "Calories to Protein Ratio: 10.0\n",
      "Calories to Cholesterol Ratio: 5.0\n",
      "\n",
      "execution time: 0.0202 seconds\n"
     ]
    }
   ],
   "source": [
    "data1 = {\n",
    "    \"all_ingredients\": [\n",
    "        {\"i_id\": 0, \"name\": \"Chicken Breast\", \"unit_price\": 100},\n",
    "        {\"i_id\": 1, \"name\": \"Rice\", \"unit_price\": 50},\n",
    "    ],\n",
    "    \"recipes\": [\n",
    "        {\n",
    "            \"name\": \"Chicken and Rice\",\n",
    "            \"ingredients\": [{\"i_id\": 0, \"name\": \"Chicken Breast\", \"proportion\": 1.0},\n",
    "                            {\"i_id\": 1, \"name\": \"Rice\", \"proportion\": 1.0}],\n",
    "            \"nutrients\": {\"calories\": 400, \"protein\": 40, \"cholesterol\": 80}\n",
    "        }\n",
    "    ]\n",
    "}\n",
    "\n",
    "budget1 = 10 \n",
    "calorie_cap1 = 500\n",
    "inventory1 = [\n",
    "    {\"i_id\": 0, \"amount\": 1.0}, \n",
    "    {\"i_id\": 1, \"amount\": 1.0},  \n",
    "]\n",
    "disliked_ct1 = [0]  # no dislikes\n",
    "allergies = []\n",
    "start = time.time()\n",
    "result = cp(data1, budget1, calorie_cap1, inventory1, disliked_ct1, allergies, chosen_meals=1)\n",
    "end = time.time()\n",
    "execution_time = end - start\n",
    "print(f\"\\nexecution time: {execution_time:.4f} seconds\")\n"
   ]
  },
  {
   "cell_type": "markdown",
   "id": "09097f59",
   "metadata": {},
   "source": [
    "TEST 2: No inventory\n",
    "\n",
    "In this test, the user must buy the needed ingredients, note that they buy 3 units of beef despite the recipes calling for 2.7"
   ]
  },
  {
   "cell_type": "code",
   "execution_count": 3,
   "id": "7617efb8",
   "metadata": {},
   "outputs": [
    {
     "name": "stdout",
     "output_type": "stream",
     "text": [
      "Solution status: OPTIMAL\n",
      "Chosen recipe IDs: [0, 1]\n",
      "  -> Beef Stew\n",
      "  -> Beef Brew\n",
      "Extra purchased amounts:\n",
      "Ingredient 0 (Beef): 3.0\n",
      "Ingredient 1 (Potatoes): 2.0\n",
      "Total cost used: 7.5 (Budget = 20)\n",
      "Total Protein: 90\n",
      "Total Calories: 1500\n",
      "Total Cholestrol: 220\n",
      "Calories to Protein Ratio: 16.666666666666668\n",
      "Calories to Cholesterol Ratio: 6.818181818181818\n",
      "\n",
      "execution time: 0.0154 seconds\n"
     ]
    }
   ],
   "source": [
    "\n",
    "data2 = {\n",
    "    \"all_ingredients\": [\n",
    "        {\"i_id\": 0, \"name\": \"Beef\", \"unit_price\": 200},\n",
    "        {\"i_id\": 1, \"name\": \"Potatoes\", \"unit_price\": 75},\n",
    "    ],\n",
    "    \"recipes\": [\n",
    "        {\n",
    "            \"name\": \"Beef Stew\",\n",
    "            \"ingredients\": [{\"i_id\": 0, \"name\": \"Beef\", \"proportion\": 1.5},\n",
    "                            {\"i_id\": 1, \"name\": \"Potatoes\", \"proportion\": 2.0}],\n",
    "            \"nutrients\": {\"calories\": 900, \"protein\": 50, \"cholesterol\": 120}\n",
    "        },\n",
    "        {\n",
    "            \"name\": \"Beef Brew\",\n",
    "            \"ingredients\": [{\"i_id\": 0, \"name\": \"Beef\", \"proportion\": 1.2}],\n",
    "            \"nutrients\": {\"calories\": 600, \"protein\": 40, \"cholesterol\": 100}\n",
    "        }\n",
    "    ]\n",
    "}\n",
    "\n",
    "budget2 = 20\n",
    "calorie_cap2 = 2000\n",
    "inventory2 = [\n",
    "    {\"i_id\": 0, \"amount\": 0.0}, \n",
    "    {\"i_id\": 1, \"amount\": 0.0},\n",
    "]\n",
    "disliked_ct2 = [0, 0]\n",
    "allergies = []\n",
    "start = time.time()\n",
    "cp(data2, budget2, calorie_cap2, inventory2, disliked_ct2, allergies, chosen_meals=2)\n",
    "end = time.time()\n",
    "execution_time = end - start\n",
    "print(f\"\\nexecution time: {execution_time:.4f} seconds\")\n"
   ]
  },
  {
   "cell_type": "markdown",
   "id": "1814b736",
   "metadata": {},
   "source": [
    "TEST 3, 4: Choose 2/3 Recipes\n",
    "\n",
    "In the following tests, the user wants 2 out of the 3 available recipes but in the second test, they dislike pasta, thus changing the output.\n",
    "In the first test, chicken pasta and pasta salad are selected because they maximize protein for roughly the same level of other macros, but in the second test, pasta salad is replaced with spinach salad because the user dislikes pasta. However, because chicken pasta is so high is protein, the user's soft constraint is overriden."
   ]
  },
  {
   "cell_type": "code",
   "execution_count": 4,
   "id": "0f371101",
   "metadata": {},
   "outputs": [
    {
     "name": "stdout",
     "output_type": "stream",
     "text": [
      "Solution status: OPTIMAL\n",
      "Chosen recipe IDs: [0, 2]\n",
      "  -> Chicken Pasta\n",
      "  -> Pasta Salad\n",
      "Extra purchased amounts:\n",
      "Ingredient 1 (Pasta): 1.0\n",
      "Ingredient 2 (Spinach): 1.0\n",
      "Total cost used: 2.0 (Budget = 200)\n",
      "Total Protein: 70\n",
      "Total Calories: 700\n",
      "Total Cholestrol: 110\n",
      "Calories to Protein Ratio: 10.0\n",
      "Calories to Cholesterol Ratio: 6.363636363636363\n",
      "\n",
      "execution time: 0.0146 seconds\n"
     ]
    }
   ],
   "source": [
    "data3 = {\n",
    "    \"all_ingredients\": [\n",
    "        {\"i_id\": 0, \"name\": \"Chicken\", \"unit_price\": 100},\n",
    "        {\"i_id\": 1, \"name\": \"Pasta\", \"unit_price\": 75},\n",
    "        {\"i_id\": 2, \"name\": \"Spinach\", \"unit_price\": 125},\n",
    "    ],\n",
    "    \"recipes\": [\n",
    "        {\n",
    "            \"name\": \"Chicken Pasta\",\n",
    "            \"ingredients\": [{\"i_id\": 0, \"name\": \"Chicken\", \"proportion\": 1.0},\n",
    "                            {\"i_id\": 1, \"name\": \"Pasta\", \"proportion\": 1.0}],\n",
    "            \"nutrients\": {\"calories\": 500, \"protein\": 50, \"cholesterol\": 100}\n",
    "        },\n",
    "        {\n",
    "            \"name\": \"Spinach Salad\",\n",
    "            \"ingredients\": [{\"i_id\": 2, \"name\": \"Spinach\", \"proportion\": 1.0}],\n",
    "            \"nutrients\": {\"calories\": 200, \"protein\": 15, \"cholesterol\": 0}\n",
    "        },\n",
    "        {\n",
    "            \"name\": \"Pasta Salad\",\n",
    "            \"ingredients\": [{\"i_id\": 1, \"name\": \"Pasta\", \"proportion\": 0.5},\n",
    "                            {\"i_id\": 2, \"name\": \"Spinach\", \"proportion\": 0.5}],\n",
    "            \"nutrients\": {\"calories\": 200, \"protein\": 20, \"cholesterol\": 10}\n",
    "        }\n",
    "    ]\n",
    "}\n",
    "\n",
    "budget3 = 200\n",
    "calorie_cap3 = 500\n",
    "inventory3 = [\n",
    "    {\"i_id\": 0, \"amount\": 1.0},\n",
    "    {\"i_id\": 1, \"amount\": 1.0},\n",
    "    {\"i_id\": 2, \"amount\": 1.0},\n",
    "]\n",
    "disliked_ct3 = [0, 0, 0]\n",
    "allergies = []\n",
    "start = time.time()\n",
    "cp(data3, budget3, calorie_cap3, inventory3, disliked_ct3, allergies, chosen_meals=2)\n",
    "end = time.time()\n",
    "execution_time = end - start\n",
    "print(f\"\\nexecution time: {execution_time:.4f} seconds\")\n"
   ]
  },
  {
   "cell_type": "code",
   "execution_count": 5,
   "id": "edf44251",
   "metadata": {},
   "outputs": [
    {
     "name": "stdout",
     "output_type": "stream",
     "text": [
      "Solution status: OPTIMAL\n",
      "Chosen recipe IDs: [0, 1]\n",
      "  -> Chicken Pasta\n",
      "  -> Spinach Salad\n",
      "Extra purchased amounts:\n",
      "Ingredient 1 (Pasta): 1.0\n",
      "Ingredient 2 (Spinach): 1.0\n",
      "Total cost used: 2.0 (Budget = 200)\n",
      "Total Protein: 65\n",
      "Total Calories: 700\n",
      "Total Cholestrol: 100\n",
      "Calories to Protein Ratio: 10.76923076923077\n",
      "Calories to Cholesterol Ratio: 7.0\n",
      "\n",
      "execution time: 0.0154 seconds\n"
     ]
    }
   ],
   "source": [
    "#here, assume we dislike pasta, meaning that recipes 0 and 2 each has a disliked count of 1\n",
    "disliked_ct4 = [1, 0, 1]\n",
    "start = time.time()\n",
    "cp(data3, budget3, calorie_cap3, inventory3, disliked_ct4, allergies, chosen_meals=2)\n",
    "end = time.time()\n",
    "execution_time = end - start\n",
    "print(f\"\\nexecution time: {execution_time:.4f} seconds\")\n"
   ]
  },
  {
   "cell_type": "markdown",
   "id": "bd956351",
   "metadata": {},
   "source": [
    "TEST 5: No Solution \n",
    "\n",
    "In the first version of this test, the calorie cap is too low for the recipe, meaning it won't be chosen\n",
    "\n",
    "In the second version, the budget is insufficient to buy the needed ingredients, again leading to no recipes chosen"
   ]
  },
  {
   "cell_type": "code",
   "execution_count": 6,
   "id": "d7a3d91e",
   "metadata": {},
   "outputs": [
    {
     "name": "stdout",
     "output_type": "stream",
     "text": [
      "No feasible solution found.\n",
      "\n",
      "execution time: 0.0000 seconds\n"
     ]
    }
   ],
   "source": [
    "data5 = {\n",
    "    \"all_ingredients\": [\n",
    "        {\"i_id\": 0, \"name\": \"Steak\", \"unit_price\": 500},\n",
    "    ],\n",
    "    \"recipes\": [\n",
    "        {\n",
    "            \"name\": \"Steak Dinner\",\n",
    "            \"ingredients\": [{\"i_id\": 0, \"name\": \"Steak\", \"proportion\": 1.0}],\n",
    "            \"nutrients\": {\"calories\": 1200, \"protein\": 80, \"cholesterol\": 150}\n",
    "        }\n",
    "    ]\n",
    "}\n",
    "\n",
    "budget5 = 10\n",
    "calorie_cap5 = 800 \n",
    "inventory5 = [\n",
    "    {\"i_id\": 0, \"amount\": 1.0},\n",
    "]\n",
    "disliked_ct5 = [0]\n",
    "allergies = []\n",
    "start = time.time()\n",
    "cp(data5, budget5, calorie_cap5, inventory5, disliked_ct5, allergies, chosen_meals=1)\n",
    "end = time.time()\n",
    "execution_time = end - start\n",
    "print(f\"\\nexecution time: {execution_time:.4f} seconds\")\n"
   ]
  },
  {
   "cell_type": "code",
   "execution_count": 7,
   "id": "e1b47898",
   "metadata": {},
   "outputs": [
    {
     "name": "stdout",
     "output_type": "stream",
     "text": [
      "No feasible solution found.\n",
      "\n",
      "execution time: 0.0020 seconds\n"
     ]
    }
   ],
   "source": [
    "data5 = {\n",
    "    \"all_ingredients\": [\n",
    "        {\"i_id\": 0, \"name\": \"Steak\", \"unit_price\": 1500},\n",
    "    ],\n",
    "    \"recipes\": [\n",
    "        {\n",
    "            \"name\": \"Steak Dinner\",\n",
    "            \"ingredients\": [{\"i_id\": 0, \"name\": \"Steak\", \"proportion\": 1.0}],\n",
    "            \"nutrients\": {\"calories\": 1200, \"protein\": 80, \"cholesterol\": 150}\n",
    "        }\n",
    "    ]\n",
    "}\n",
    "\n",
    "budget5 = 10\n",
    "calorie_cap5 = 1400 \n",
    "inventory5 = [\n",
    "    {\"i_id\": 0, \"amount\": 0.0},\n",
    "]\n",
    "disliked_ct5 = [0]\n",
    "allergies = []\n",
    "start = time.time()\n",
    "cp(data5, budget5, calorie_cap5, inventory5, disliked_ct5, allergies, chosen_meals=1)\n",
    "end = time.time()\n",
    "execution_time = end - start\n",
    "print(f\"\\nexecution time: {execution_time:.4f} seconds\")\n"
   ]
  },
  {
   "cell_type": "markdown",
   "id": "13aac792",
   "metadata": {},
   "source": [
    "TEST 6: Medium Input (choose 5 recipes from 10)\n",
    "here we can test a few different things, like how changing the input parameters will affect the results\n",
    "1. no disliked foods, high budget ($30)\n",
    "2. still no disliked foods, but lower the budget ($10)\n",
    "3. dislike beef and broccoli, high budget\n",
    "4. allergic to beef, dislike broccoli, high budget"
   ]
  },
  {
   "cell_type": "code",
   "execution_count": 8,
   "id": "798a0e74",
   "metadata": {},
   "outputs": [
    {
     "name": "stdout",
     "output_type": "stream",
     "text": [
      "Solution status: OPTIMAL\n",
      "Chosen recipe IDs: [0, 1, 3, 4, 7]\n",
      "  -> chicken stir fry\n",
      "  -> beef stew\n",
      "  -> chili beans\n",
      "  -> chicken salad\n",
      "  -> beef tacos\n",
      "Extra purchased amounts:\n",
      "Ingredient 0 (chicken): 1.0\n",
      "Ingredient 2 (broccoli): 1.0\n",
      "Ingredient 3 (beef): 2.0\n",
      "Ingredient 4 (pasta): 2.0\n",
      "Ingredient 5 (tomato): 1.0\n",
      "Ingredient 7 (lettuce): 1.0\n",
      "Ingredient 8 (onion): 1.0\n",
      "Ingredient 9 (beans): 2.0\n",
      "Ingredient 10 (potato): 2.0\n",
      "Total cost used: 15.1 (Budget = 30)\n",
      "Total Protein: 200\n",
      "Total Calories: 2650\n",
      "Total Cholestrol: 255\n",
      "Calories to Protein Ratio: 13.25\n",
      "Calories to Cholesterol Ratio: 10.392156862745098\n",
      "\n",
      "execution time: 0.0172 seconds\n"
     ]
    }
   ],
   "source": [
    "data_large = {\n",
    "    \"all_ingredients\": [\n",
    "        {\"i_id\": 0, \"name\": \"chicken\", \"unit_price\": 150},\n",
    "        {\"i_id\": 1, \"name\": \"rice\", \"unit_price\": 80},\n",
    "        {\"i_id\": 2, \"name\": \"broccoli\", \"unit_price\": 120},\n",
    "        {\"i_id\": 3, \"name\": \"beef\", \"unit_price\": 200},\n",
    "        {\"i_id\": 4, \"name\": \"pasta\", \"unit_price\": 90},\n",
    "        {\"i_id\": 5, \"name\": \"tomato\", \"unit_price\": 100},\n",
    "        {\"i_id\": 6, \"name\": \"cheese\", \"unit_price\": 180},\n",
    "        {\"i_id\": 7, \"name\": \"lettuce\", \"unit_price\": 110},\n",
    "        {\"i_id\": 8, \"name\": \"onion\", \"unit_price\": 70},\n",
    "        {\"i_id\": 9, \"name\": \"beans\", \"unit_price\": 130},\n",
    "        {\"i_id\": 10, \"name\": \"potato\", \"unit_price\": 60},\n",
    "    ],\n",
    "    \"recipes\": [\n",
    "        {\"name\": \"chicken stir fry\", \"ingredients\": [{\"i_id\": 0, \"name\": \"chicken\", \"proportion\": 0.5}, {\"i_id\": 2, \"name\": \"broccoli\", \"proportion\": 0.3}], \"nutrients\": {\"calories\": 500, \"protein\": 40, \"cholesterol\": 50}},\n",
    "        {\"name\": \"beef stew\", \"ingredients\": [{\"i_id\": 3, \"name\": \"beef\", \"proportion\": 0.6}, {\"i_id\": 10, \"name\": \"potato\", \"proportion\": 0.4}], \"nutrients\": {\"calories\": 700, \"protein\": 60, \"cholesterol\": 90}},\n",
    "        {\"name\": \"veggie pasta\", \"ingredients\": [{\"i_id\": 4, \"name\": \"pasta\", \"proportion\": 0.5}, {\"i_id\": 5, \"name\": \"tomato\", \"proportion\": 0.3}, {\"i_id\": 2, \"name\": \"broccoli\", \"proportion\": 0.2}], \"nutrients\": {\"calories\": 600, \"protein\": 20, \"cholesterol\": 10}},\n",
    "        {\"name\": \"chili beans\", \"ingredients\": [{\"i_id\": 9, \"name\": \"beans\", \"proportion\": 0.7}, {\"i_id\": 8, \"name\": \"onion\", \"proportion\": 0.2}], \"nutrients\": {\"calories\": 500, \"protein\": 25, \"cholesterol\": 5}},\n",
    "        {\"name\": \"chicken salad\", \"ingredients\": [{\"i_id\": 0, \"name\": \"chicken\", \"proportion\": 0.4}, {\"i_id\": 7, \"name\": \"lettuce\", \"proportion\": 0.3}], \"nutrients\": {\"calories\": 350, \"protein\": 30, \"cholesterol\": 40}},\n",
    "        {\"name\": \"cheesy pasta\", \"ingredients\": [{\"i_id\": 4, \"name\": \"pasta\", \"proportion\": 0.5}, {\"i_id\": 6, \"name\": \"cheese\", \"proportion\": 0.5}], \"nutrients\": {\"calories\": 650, \"protein\": 25, \"cholesterol\": 60}},\n",
    "        {\"name\": \"baked potato\", \"ingredients\": [{\"i_id\": 10, \"name\": \"potato\", \"proportion\": 0.9}], \"nutrients\": {\"calories\": 400, \"protein\": 8, \"cholesterol\": 0}},\n",
    "        {\"name\": \"beef tacos\", \"ingredients\": [{\"i_id\": 3, \"name\": \"beef\", \"proportion\": 0.5}, {\"i_id\": 8, \"name\": \"onion\", \"proportion\": 0.3}], \"nutrients\": {\"calories\": 600, \"protein\": 45, \"cholesterol\": 70}},\n",
    "        {\"name\": \"rice and beans\", \"ingredients\": [{\"i_id\": 1, \"name\": \"rice\", \"proportion\": 0.4}, {\"i_id\": 9, \"name\": \"beans\", \"proportion\": 0.4}], \"nutrients\": {\"calories\": 550, \"protein\": 18, \"cholesterol\": 5}},\n",
    "        {\"name\": \"pasta primavera\", \"ingredients\": [{\"i_id\": 4, \"name\": \"pasta\", \"proportion\": 0.6}, {\"i_id\": 5, \"name\": \"tomato\", \"proportion\": 0.3}, {\"i_id\": 7, \"name\": \"lettuce\", \"proportion\": 0.1}], \"nutrients\": {\"calories\": 620, \"protein\": 22, \"cholesterol\": 10}},\n",
    "    ]\n",
    "}\n",
    "inventory_large = [\n",
    "    {\"i_id\": 0, \"amount\": 0.0},\n",
    "    {\"i_id\": 1, \"amount\": 0.0},\n",
    "    {\"i_id\": 2, \"amount\": 0.0},\n",
    "    {\"i_id\": 3, \"amount\": 0.0},\n",
    "    {\"i_id\": 4, \"amount\": 0.0},\n",
    "    {\"i_id\": 5, \"amount\": 0.0},\n",
    "    {\"i_id\": 6, \"amount\": 0.0},\n",
    "    {\"i_id\": 7, \"amount\": 0.0},\n",
    "    {\"i_id\": 8, \"amount\": 0.0},\n",
    "    {\"i_id\": 9, \"amount\": 0.0},\n",
    "    {\"i_id\": 10, \"amount\": 0.0}\n",
    "]\n",
    "\n",
    "disliked_ct_large = [0,0,0,0,0,0,0,0,0,0]\n",
    "\n",
    "allergies = []\n",
    "start = time.time()\n",
    "cp(data_large, budget=30, calorie_cap=800, inventory=inventory_large, disliked_ct=disliked_ct_large, allergies=allergies, chosen_meals=5)\n",
    "end = time.time()\n",
    "execution_time = end - start\n",
    "print(f\"\\nexecution time: {execution_time:.4f} seconds\")\n"
   ]
  },
  {
   "cell_type": "markdown",
   "id": "8cd99e26",
   "metadata": {},
   "source": [
    "Now, if we lower the budget to $10, recipe 4 (chicken salad) gets replaced with recipe 6 (baked potato) since baked potato is cheaper ($0.54 cents versus $0.93) but the final result has a worse calorie to protein ratio since the amount of protein gets reduced also."
   ]
  },
  {
   "cell_type": "code",
   "execution_count": 9,
   "id": "37625d87",
   "metadata": {},
   "outputs": [
    {
     "name": "stdout",
     "output_type": "stream",
     "text": [
      "Solution status: OPTIMAL\n",
      "Chosen recipe IDs: [0, 1, 3, 6, 7]\n",
      "  -> chicken stir fry\n",
      "  -> beef stew\n",
      "  -> chili beans\n",
      "  -> baked potato\n",
      "  -> beef tacos\n",
      "Extra purchased amounts:\n",
      "Ingredient 0 (chicken): 1.0\n",
      "Ingredient 2 (broccoli): 1.0\n",
      "Ingredient 3 (beef): 2.0\n",
      "Ingredient 8 (onion): 1.0\n",
      "Ingredient 9 (beans): 1.0\n",
      "Ingredient 10 (potato): 2.0\n",
      "Total cost used: 9.9 (Budget = 10)\n",
      "Total Protein: 178\n",
      "Total Calories: 2700\n",
      "Total Cholestrol: 215\n",
      "Calories to Protein Ratio: 15.168539325842696\n",
      "Calories to Cholesterol Ratio: 12.55813953488372\n",
      "\n",
      "execution time: 0.0210 seconds\n"
     ]
    }
   ],
   "source": [
    "start = time.time()\n",
    "cp(data_large, budget=10, calorie_cap=800, inventory=inventory_large, disliked_ct=disliked_ct_large, allergies=allergies, chosen_meals=5)\n",
    "end = time.time()\n",
    "execution_time = end - start\n",
    "print(f\"\\nexecution time: {execution_time:.4f} seconds\")"
   ]
  },
  {
   "cell_type": "markdown",
   "id": "5e933f01",
   "metadata": {},
   "source": [
    "Now, what if we really dislike some of the ingredients? Say broccoli and beef :(\n",
    "\n",
    "We see that (compared to baseline recipes), beef stew stays even though we dislike beef because it has so much protein, but beef tacos and chicken stir-fry are gone and replaced with rice and beans and pasta primavera\n",
    "\n",
    "Additionally, note that the total cost increases from $15.10 to $15.90 and the total protein drops from 200g to 155g"
   ]
  },
  {
   "cell_type": "code",
   "execution_count": 10,
   "id": "06b40cce",
   "metadata": {},
   "outputs": [
    {
     "name": "stdout",
     "output_type": "stream",
     "text": [
      "Solution status: OPTIMAL\n",
      "Chosen recipe IDs: [1, 3, 4, 8, 9]\n",
      "  -> beef stew\n",
      "  -> chili beans\n",
      "  -> chicken salad\n",
      "  -> rice and beans\n",
      "  -> pasta primavera\n",
      "Extra purchased amounts:\n",
      "Ingredient 0 (chicken): 1.0\n",
      "Ingredient 1 (rice): 1.0\n",
      "Ingredient 2 (broccoli): 1.0\n",
      "Ingredient 3 (beef): 2.0\n",
      "Ingredient 4 (pasta): 2.0\n",
      "Ingredient 5 (tomato): 1.0\n",
      "Ingredient 7 (lettuce): 1.0\n",
      "Ingredient 8 (onion): 1.0\n",
      "Ingredient 9 (beans): 2.0\n",
      "Ingredient 10 (potato): 2.0\n",
      "Total cost used: 15.9 (Budget = 30)\n",
      "Total Protein: 155\n",
      "Total Calories: 2720\n",
      "Total Cholestrol: 150\n",
      "Calories to Protein Ratio: 17.548387096774192\n",
      "Calories to Cholesterol Ratio: 18.133333333333333\n",
      "\n",
      "execution time: 0.0059 seconds\n"
     ]
    }
   ],
   "source": [
    "disliked_ct_large = [1,1,1,0,0,0,0,1,0,0]\n",
    "\n",
    "start = time.time()\n",
    "cp(data_large, budget=30, calorie_cap=800, inventory=inventory_large, disliked_ct=disliked_ct_large, allergies=allergies, chosen_meals=5)\n",
    "end = time.time()\n",
    "execution_time = end - start\n",
    "print(f\"\\nexecution time: {execution_time:.4f} seconds\")"
   ]
  },
  {
   "cell_type": "markdown",
   "id": "7cb1c8d6",
   "metadata": {},
   "source": [
    "OK, but if we really hate beef we can tell a small lie and say we're actually allergic (yikes don't do this at a restaurant)\n",
    "Now, notice that beef stew and beef tacos are no longer in the chosen recipes, but even though we still say we don't like broccoli which is in chicken stir fry, it is chosen since it has a lot of calories that are now \"worth it\" despite the user's dislike.\n",
    "\n",
    "Here, the price actually goes down, probably since beef is quite expensive, but notice that the total protein once again drops to 135g (from baseline 200g and 155g with disliked but not allergic to beef)"
   ]
  },
  {
   "cell_type": "code",
   "execution_count": 11,
   "id": "68ad7ccd",
   "metadata": {},
   "outputs": [
    {
     "name": "stdout",
     "output_type": "stream",
     "text": [
      "Solution status: OPTIMAL\n",
      "Chosen recipe IDs: [0, 3, 4, 8, 9]\n",
      "  -> chicken stir fry\n",
      "  -> chili beans\n",
      "  -> chicken salad\n",
      "  -> rice and beans\n",
      "  -> pasta primavera\n",
      "Extra purchased amounts:\n",
      "Ingredient 0 (chicken): 1.0\n",
      "Ingredient 1 (rice): 1.0\n",
      "Ingredient 2 (broccoli): 1.0\n",
      "Ingredient 4 (pasta): 2.0\n",
      "Ingredient 5 (tomato): 1.0\n",
      "Ingredient 7 (lettuce): 1.0\n",
      "Ingredient 8 (onion): 1.0\n",
      "Ingredient 9 (beans): 2.0\n",
      "Total cost used: 10.7 (Budget = 30)\n",
      "Total Protein: 135\n",
      "Total Calories: 2520\n",
      "Total Cholestrol: 110\n",
      "Calories to Protein Ratio: 18.666666666666668\n",
      "Calories to Cholesterol Ratio: 22.90909090909091\n",
      "\n",
      "execution time: 0.0099 seconds\n"
     ]
    }
   ],
   "source": [
    "allergies = ['beef']\n",
    "disliked_ct_large = [1,0,1,0,0,0,0,0,0,0]\n",
    "start = time.time()\n",
    "cp(data_large, 30, 800, inventory_large, disliked_ct_large, allergies, 5)\n",
    "end = time.time()\n",
    "execution_time = end - start\n",
    "print(f\"\\nexecution time: {execution_time:.4f} seconds\")"
   ]
  },
  {
   "cell_type": "markdown",
   "id": "ec7532ee",
   "metadata": {},
   "source": [
    "Finally, let's see what happens with our largest possible dataset of 100 recipes (sorry, we couldn't afford more recipes :()\n",
    "\n",
    "Feel free to play around with the inputs in their respective files (in the /data folder), the only file that should not be changed is large_recipe_dataset since it comes from Spoonacular and must be in that specific format for the CP solver to use.\n",
    "\n",
    "For reference, this is what we have initialized them to:\n",
    "INVENTORY:\n",
    "broccoli: 2\n",
    "chicken breast: 1\n",
    "pasta: 2\n",
    "onion: 1\n",
    "tomato: 1\n",
    "potato: 2\n",
    "eggs: 0.5\n",
    "\n",
    "ALLERGIES:\n",
    "peanuts\n",
    "peanut butter\n",
    "milk\n",
    "\n",
    "DISLIKED:\n",
    "cilantro\n",
    "basil\n",
    "olives\n",
    "lemon\n",
    "\n",
    "CAP: (calories/meal, # meals to return, max budget)\n",
    "700,5,150\n"
   ]
  },
  {
   "cell_type": "code",
   "execution_count": 14,
   "id": "5bf04d4a",
   "metadata": {},
   "outputs": [
    {
     "name": "stdout",
     "output_type": "stream",
     "text": [
      "Solution status: OPTIMAL\n",
      "Chosen recipe IDs: [26, 33, 48, 69, 94]\n",
      "  -> Best Minestrone Soup Recipe\n",
      "  -> Easy Vegetable Beef Soup\n",
      "  -> How to Make a Chicken Taco Crock Pot\n",
      "  -> Delicious Creamy Lentils and Chestnuts Soup\n",
      "  -> Mushroom, roasted tomato and garlic pasta\n",
      "Extra purchased amounts:\n",
      "Ingredient 1 (canned tomatoes): 3.0\n",
      "Ingredient 3 (onion): 1.0\n",
      "Ingredient 5 (parsley): 2.0\n",
      "Ingredient 6 (garlic): 4.0\n",
      "Ingredient 7 (ground beef i like): 2.0\n",
      "Ingredient 10 (parmesan reggiano): 2.0\n",
      "Ingredient 14 (thyme leaves): 3.0\n",
      "Ingredient 17 (butter lettuce): 1.0\n",
      "Ingredient 19 (capers): 1.0\n",
      "Ingredient 20 (chicken stock): 1.0\n",
      "Ingredient 22 (kidney beans): 2.0\n",
      "Ingredient 23 (pepper flakes): 1.0\n",
      "Ingredient 33 (kernal corn): 2.0\n",
      "Ingredient 35 (spaghetti): 1.0\n",
      "Ingredient 44 (rosemary): 1.0\n",
      "Ingredient 45 (chilis): 1.0\n",
      "Ingredient 71 (ziti pasta): 1.0\n",
      "Ingredient 72 (celery seed): 1.0\n",
      "Ingredient 75 (baby bella mushrooms): 1.0\n",
      "Ingredient 77 (elbow macaroni): 1.0\n",
      "Ingredient 80 (worcestershire sauce): 1.0\n",
      "Ingredient 87 (taco seasoning): 1.0\n",
      "Ingredient 100 (roasted chestnuts): 1.0\n",
      "Ingredient 101 (lentils): 1.0\n",
      "Total cost used: 92.76 (Budget = 150)\n",
      "Total Protein: 155\n",
      "Total Calories: 2357\n",
      "Total Cholestrol: 248\n",
      "Calories to Protein Ratio: 15.206451612903226\n",
      "Calories to Cholesterol Ratio: 9.504032258064516\n",
      "\n",
      "execution time: 0.0656 seconds\n"
     ]
    }
   ],
   "source": [
    "main(\"data/large_recipe_dataset.json\", \n",
    "         \"data/large_inventory.txt\",\n",
    "        \"data/large_disliked.txt\",\n",
    "        \"data/large_cap.txt\",\n",
    "        \"data/large_allergies.txt\")"
   ]
  },
  {
   "cell_type": "markdown",
   "id": "973b97b3",
   "metadata": {},
   "source": [
    "Here is just an instance of a generic solver whose recipes database will be populated by your input, make sure to run python /preprocessing/pipeline.py to input the ingredients you want to base the recipes on.\n",
    "\n",
    "It will take ~10 minutes for the recipe dataset to generate (due to API rate limits), so if you want to get fewer recipes for it to be faster, change line 250 in preprocessing/get_recipes.py to be     \n",
    "recipes = fetch_enriched_recipes(my_ingredients, max_results={#results you want})\n"
   ]
  },
  {
   "cell_type": "code",
   "execution_count": 13,
   "id": "52a69811",
   "metadata": {},
   "outputs": [
    {
     "name": "stdout",
     "output_type": "stream",
     "text": [
      "Solution status: OPTIMAL\n",
      "Chosen recipe IDs: [1, 2, 3, 5, 10, 11, 14]\n",
      "  -> Vegetarian Christmas wreath\n",
      "  -> Homemade Broccoli Cheddar Soup\n",
      "  -> Chicken Enchilada Salad Wraps\n",
      "  -> Broccoli Cheddar Soup\n",
      "  -> Buffalo Chicken Wings Wonton Wraps\n",
      "  -> Broccoli Cheese Soup\n",
      "  -> Bbq Chicken and Goat Cheese Ravioli\n",
      "Extra purchased amounts:\n",
      "Ingredient 1 (green onion): 6.0\n",
      "Ingredient 2 (parmesan): 1.0\n",
      "Ingredient 4 (butter): 1.0\n",
      "Ingredient 5 (egg): 1.0\n",
      "Ingredient 6 (powdered garlic): 3.0\n",
      "Ingredient 7 (salmon): 2.0\n",
      "Ingredient 8 (cheese): 2.0\n",
      "Ingredient 9 (cherry tomatoes): 2.0\n",
      "Ingredient 10 (bell pepper): 3.0\n",
      "Ingredient 12 (dill): 1.0\n",
      "Ingredient 13 (olives): 1.0\n",
      "Ingredient 14 (juice of lemon): 1.0\n",
      "Ingredient 15 (vegetable broth): 1.0\n",
      "Ingredient 16 (yogurt): 1.0\n",
      "Ingredient 17 (yukon gold potatoes): 2.0\n",
      "Ingredient 18 (bay leaf): 1.0\n",
      "Ingredient 19 (swanson premium chicken): 2.0\n",
      "Ingredient 20 (cream): 1.0\n",
      "Ingredient 21 (chili powder): 1.0\n",
      "Ingredient 22 (cumin): 1.0\n",
      "Ingredient 23 (cilantro): 1.0\n",
      "Ingredient 24 (lettuce): 1.0\n",
      "Ingredient 25 (burrito sized tortillas): 1.0\n",
      "Ingredient 27 (milk): 1.0\n",
      "Ingredient 29 (spinach): 1.0\n",
      "Ingredient 30 (celery stalks): 1.0\n",
      "Ingredient 31 (chicken stock): 1.0\n",
      "Ingredient 32 (thyme): 3.0\n",
      "Ingredient 33 (ground mustard): 1.0\n",
      "Ingredient 48 (cranberry-port sauce): 1.0\n",
      "Ingredient 52 (sage): 1.0\n",
      "Ingredient 53 (weight cream cheese): 1.0\n",
      "Ingredient 54 (wonton wrappers): 2.0\n",
      "Total cost used: 141.48000000000002 (Budget = 200)\n",
      "Total Protein: 106\n",
      "Total Calories: 2492\n",
      "Total Cholestrol: 391\n",
      "Calories to Protein Ratio: 23.50943396226415\n",
      "Calories to Cholesterol Ratio: 6.373401534526854\n",
      "\n",
      "execution time: 0.0164 seconds\n"
     ]
    }
   ],
   "source": [
    "main(\"preprocessing/combined_recipe_data.json\", \n",
    "         \"preprocessing/inventory.txt\",\n",
    "        \"preprocessing/disliked.txt\",\n",
    "        \"preprocessing/cap.txt\",\n",
    "        \"preprocessing/allergies.txt\")"
   ]
  }
 ],
 "metadata": {
  "kernelspec": {
   "display_name": ".venv",
   "language": "python",
   "name": "python3"
  },
  "language_info": {
   "codemirror_mode": {
    "name": "ipython",
    "version": 3
   },
   "file_extension": ".py",
   "mimetype": "text/x-python",
   "name": "python",
   "nbconvert_exporter": "python",
   "pygments_lexer": "ipython3",
   "version": "3.12.10"
  }
 },
 "nbformat": 4,
 "nbformat_minor": 5
}
